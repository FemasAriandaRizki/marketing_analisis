{
 "cells": [
  {
   "cell_type": "markdown",
   "id": "e56d4060-b258-46ea-ac55-91a876072e40",
   "metadata": {},
   "source": [
    "# Goals\n",
    "Optimasi Campaign Results terkait penawaran produk baru, sehingga mendapatkan profit yang maksimal di bulan depan dan memahami karakteristik customers yang menerima penawaran produk baru tersebut."
   ]
  },
  {
   "cell_type": "markdown",
   "id": "94ef497a-d4f4-486a-b42c-d2a2e35ebbea",
   "metadata": {},
   "source": [
    "# Data Quality Check\n",
    "- Q1: Apakah ada features yang type-nya tidak sesuai?\n",
    "- Q2: Apakah duplicate, missing values, dan outliers? Bagaimana mengatasi hal-hal tersebut?\n",
    "- Q3: Apakah terdapat distribusi yang tidak masuk akal?"
   ]
  },
  {
   "cell_type": "code",
   "execution_count": 6,
   "id": "1ed08869-966b-4bd6-9216-a159da1e75cb",
   "metadata": {},
   "outputs": [],
   "source": [
    "import pandas as pd\n",
    "import numpy as np\n",
    "import matplotlib.pyplot as plt\n",
    "import seaborn as sns\n",
    "\n",
    "pd.set_option('display.max_columns', None)\n",
    "sns.set_context('notebook')\n",
    "sns.set_style('whitegrid')\n",
    "sns.set_palette('Blues_r')"
   ]
  },
  {
   "cell_type": "code",
   "execution_count": null,
   "id": "782cd720-f027-48d6-917c-de75ca73d47d",
   "metadata": {},
   "outputs": [],
   "source": [
    "df = pd.read_csv('marketing_data.csv')\n",
    "df.head()"
   ]
  }
 ],
 "metadata": {
  "kernelspec": {
   "display_name": "Python 3 (ipykernel)",
   "language": "python",
   "name": "python3"
  },
  "language_info": {
   "codemirror_mode": {
    "name": "ipython",
    "version": 3
   },
   "file_extension": ".py",
   "mimetype": "text/x-python",
   "name": "python",
   "nbconvert_exporter": "python",
   "pygments_lexer": "ipython3",
   "version": "3.12.4"
  }
 },
 "nbformat": 4,
 "nbformat_minor": 5
}
